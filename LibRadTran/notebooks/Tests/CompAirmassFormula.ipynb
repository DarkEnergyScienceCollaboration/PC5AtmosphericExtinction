{
 "cells": [
  {
   "cell_type": "markdown",
   "metadata": {},
   "source": [
    "# Compare formula for airmass calculation\n",
    "\n",
    "- author Sylvie Dagoret-Campagne\n",
    "- creation date Wed 28 October 2016\n"
   ]
  },
  {
   "cell_type": "code",
   "execution_count": 1,
   "metadata": {
    "collapsed": false
   },
   "outputs": [
    {
     "name": "stderr",
     "output_type": "stream",
     "text": [
      "/Users/dagoret-campagnesylvie/.local/lib/python2.7/site-packages/matplotlib/__init__.py:878: UserWarning: axes.color_cycle is deprecated and replaced with axes.prop_cycle; please use the latter.\n",
      "  warnings.warn(self.msg_depr % (key, alt_key))\n"
     ]
    }
   ],
   "source": [
    "import numpy as np\n",
    "# Set up matplotlib and use a nicer set of plot parameters\n",
    "%config InlineBackend.rc = {}\n",
    "import matplotlib\n",
    "matplotlib.rc_file(\"templates/matplotlibrc\")\n",
    "import matplotlib.pyplot as plt\n",
    "%matplotlib inline"
   ]
  },
  {
   "cell_type": "code",
   "execution_count": 2,
   "metadata": {
    "collapsed": false
   },
   "outputs": [],
   "source": [
    "from astropy import units as u\n",
    "from astropy import constants as const\n",
    "from astropy.coordinates import EarthLocation,AltAz\n",
    "\n",
    "lsst=EarthLocation.of_site('Cerro Pachon')\n",
    "LSST_Longitude,LSST_Latitude,LSST_Altitude=lsst.to_geodetic()"
   ]
  },
  {
   "cell_type": "code",
   "execution_count": 3,
   "metadata": {
    "collapsed": true
   },
   "outputs": [],
   "source": [
    "LSST_Longitude = -70.7366833333333*u.deg\n",
    "LSST_Latitude = -30.240741666666672*u.deg\n",
    "LSST_Altitude = 2749.999999999238*u.m"
   ]
  },
  {
   "cell_type": "code",
   "execution_count": 4,
   "metadata": {
    "collapsed": false
   },
   "outputs": [
    {
     "data": {
      "text/plain": [
       "<AltAz Frame (obstime=None, location=(1820193.0684460278, -5208343.034275673, -3194842.5004834323) m, pressure=0.0 hPa, temperature=0.0 deg_C, relative_humidity=0, obswl=1.0 micron)>"
      ]
     },
     "execution_count": 4,
     "metadata": {},
     "output_type": "execute_result"
    }
   ],
   "source": [
    "AltAz(location=lsst)"
   ]
  },
  {
   "cell_type": "code",
   "execution_count": 5,
   "metadata": {
    "collapsed": true
   },
   "outputs": [],
   "source": [
    "# to enlarge the sizes\n",
    "params = {'legend.fontsize': 'x-large',\n",
    "          'figure.figsize': (15, 5),\n",
    "         'axes.labelsize': 'x-large',\n",
    "         'axes.titlesize':'x-large',\n",
    "         'xtick.labelsize':'x-large',\n",
    "         'ytick.labelsize':'x-large'}\n",
    "plt.rcParams.update(params)"
   ]
  },
  {
   "cell_type": "code",
   "execution_count": null,
   "metadata": {
    "collapsed": false
   },
   "outputs": [],
   "source": []
  },
  {
   "cell_type": "markdown",
   "metadata": {
    "collapsed": false
   },
   "source": [
    "## defines zenith angles in degrees"
   ]
  },
  {
   "cell_type": "code",
   "execution_count": 6,
   "metadata": {
    "collapsed": true
   },
   "outputs": [],
   "source": [
    "za=np.linspace(0,71,100)*u.deg"
   ]
  },
  {
   "cell_type": "code",
   "execution_count": 7,
   "metadata": {
    "collapsed": false
   },
   "outputs": [
    {
     "name": "stdout",
     "output_type": "stream",
     "text": [
      "[  0.           0.71717172   1.43434343   2.15151515   2.86868687\n",
      "   3.58585859   4.3030303    5.02020202   5.73737374   6.45454545\n",
      "   7.17171717   7.88888889   8.60606061   9.32323232  10.04040404\n",
      "  10.75757576  11.47474747  12.19191919  12.90909091  13.62626263\n",
      "  14.34343434  15.06060606  15.77777778  16.49494949  17.21212121\n",
      "  17.92929293  18.64646465  19.36363636  20.08080808  20.7979798\n",
      "  21.51515152  22.23232323  22.94949495  23.66666667  24.38383838\n",
      "  25.1010101   25.81818182  26.53535354  27.25252525  27.96969697\n",
      "  28.68686869  29.4040404   30.12121212  30.83838384  31.55555556\n",
      "  32.27272727  32.98989899  33.70707071  34.42424242  35.14141414\n",
      "  35.85858586  36.57575758  37.29292929  38.01010101  38.72727273\n",
      "  39.44444444  40.16161616  40.87878788  41.5959596   42.31313131\n",
      "  43.03030303  43.74747475  44.46464646  45.18181818  45.8989899\n",
      "  46.61616162  47.33333333  48.05050505  48.76767677  49.48484848\n",
      "  50.2020202   50.91919192  51.63636364  52.35353535  53.07070707\n",
      "  53.78787879  54.50505051  55.22222222  55.93939394  56.65656566\n",
      "  57.37373737  58.09090909  58.80808081  59.52525253  60.24242424\n",
      "  60.95959596  61.67676768  62.39393939  63.11111111  63.82828283\n",
      "  64.54545455  65.26262626  65.97979798  66.6969697   67.41414141\n",
      "  68.13131313  68.84848485  69.56565657  70.28282828  71.        ] deg\n"
     ]
    }
   ],
   "source": [
    "print za"
   ]
  },
  {
   "cell_type": "markdown",
   "metadata": {
    "collapsed": false
   },
   "source": [
    "## Airmass Parallel plane\n",
    "\n",
    "- Simple Secant\n",
    "----\n",
    "$\n",
    "Z= \\frac{1}{\\cos \\theta}\n",
    "$\n",
    "----"
   ]
  },
  {
   "cell_type": "code",
   "execution_count": 8,
   "metadata": {
    "collapsed": true
   },
   "outputs": [],
   "source": [
    "def Airmass_PP_SecZ(za):\n",
    "    return 1/np.cos(za)"
   ]
  },
  {
   "cell_type": "markdown",
   "metadata": {},
   "source": [
    "## Airmass Young- Irvine\n",
    "----\n",
    "$\n",
    "Z = \\sec \\theta \\left(1-0.0012(\\sec^2 \\theta -1) \\right)\n",
    "$\n",
    "----"
   ]
  },
  {
   "cell_type": "code",
   "execution_count": 9,
   "metadata": {
    "collapsed": false
   },
   "outputs": [],
   "source": [
    "def Airmass_PP_YoungIrvine1967(za):\n",
    "    SecTh=Airmass_PP_SecZ(za)\n",
    "    Z=SecTh*(1.-0.0012*(SecTh**2-1.))\n",
    "    return Z"
   ]
  },
  {
   "cell_type": "markdown",
   "metadata": {},
   "source": [
    "## Airmass Hardie\n",
    "----\n",
    "$\n",
    "  Z = \\sec \\theta -0.0018167(\\sec\\theta -1)-0.002875(\\sec\\theta -1)^2-0.0008083()(\\sec\\theta -1)^3\n",
    "$\n",
    "----"
   ]
  },
  {
   "cell_type": "code",
   "execution_count": 10,
   "metadata": {
    "collapsed": true
   },
   "outputs": [],
   "source": [
    "def Airmass_PP_Hardie1962(za):\n",
    "    SecTh=Airmass_PP_SecZ(za)\n",
    "    X=SecTh-1\n",
    "    Z=SecTh-0.0018167*X-0.002875*X**2-0.0008083*X**3\n",
    "    return Z"
   ]
  },
  {
   "cell_type": "markdown",
   "metadata": {},
   "source": [
    "## Airmass Rozenberg\n",
    "----\n",
    "$\n",
    "Z=\\frac{1}{\\cos \\theta +0.025\\exp(-11\\cdot\\cos \\theta)}\n",
    "$\n",
    "----"
   ]
  },
  {
   "cell_type": "code",
   "execution_count": 11,
   "metadata": {
    "collapsed": true
   },
   "outputs": [],
   "source": [
    "def Airmass_PP_Rozenberg1966(za):\n",
    "    CosTh=np.cos(za)\n",
    "    X=np.exp(-11*CosTh)\n",
    "    Z=1/(CosTh+0.025*X)\n",
    "    return Z"
   ]
  },
  {
   "cell_type": "markdown",
   "metadata": {},
   "source": [
    "## Airmass Kasten and Young (1989) \n",
    "\n",
    "------\n",
    "$\n",
    "Z=\\frac{1}{\\cos \\theta +0.50572(6.0799^o+90^o-\\theta)^{-1.6364}}\n",
    "$\n",
    "---"
   ]
  },
  {
   "cell_type": "code",
   "execution_count": 12,
   "metadata": {
    "collapsed": true
   },
   "outputs": [],
   "source": [
    "def Airmass_PP_KastenYoung1989(za):\n",
    "    CosTh=np.cos(za)\n",
    "    X=6.0799*u.deg+90*u.deg-za\n",
    "    Y=X/u.deg\n",
    "    Z=1/(CosTh+0.50572*np.power(Y,1.6364))\n",
    "    return Z"
   ]
  },
  {
   "cell_type": "markdown",
   "metadata": {},
   "source": [
    "## Airmass Young(1989)\n",
    "\n",
    "----\n",
    "$\n",
    "Z=\\frac{1.002432\\cos^2 \\theta + 0.148386 \\cos \\theta +0.0096467 }{\\cos^3 \\theta +0.149864 \\cos^2 \\theta+ 0.0102963\\cos \\theta+0.000303978}\n",
    "$\n",
    "----"
   ]
  },
  {
   "cell_type": "code",
   "execution_count": 13,
   "metadata": {
    "collapsed": true
   },
   "outputs": [],
   "source": [
    "def Airmass_PP_Young1994(za):\n",
    "    CosTh=np.cos(za)\n",
    "    N= 1.002432*CosTh**2 + 0.148386*CosTh +0.0096467 \n",
    "    D= CosTh**3 +0.149864*CosTh**2+ 0.0102963*CosTh+0.000303978\n",
    "    Z=N/D\n",
    "    return Z"
   ]
  },
  {
   "cell_type": "code",
   "execution_count": 14,
   "metadata": {
    "collapsed": false
   },
   "outputs": [],
   "source": [
    "Z1=Airmass_PP_SecZ(za)\n",
    "Z2=Airmass_PP_YoungIrvine1967(za)\n",
    "Z3=Airmass_PP_Hardie1962(za)\n",
    "Z4=Airmass_PP_Rozenberg1966(za)\n",
    "Z5=Airmass_PP_KastenYoung1989(za)\n",
    "Z6=Airmass_PP_Young1994(za)"
   ]
  },
  {
   "cell_type": "code",
   "execution_count": null,
   "metadata": {
    "collapsed": false
   },
   "outputs": [],
   "source": []
  },
  {
   "cell_type": "code",
   "execution_count": 15,
   "metadata": {
    "collapsed": false
   },
   "outputs": [
    {
     "data": {
      "text/plain": [
       "<matplotlib.text.Text at 0x10cf42a90>"
      ]
     },
     "execution_count": 15,
     "metadata": {},
     "output_type": "execute_result"
    },
    {
     "data": {
      "image/png": "[encoded data removed]",
      "text/plain": [
       "<matplotlib.figure.Figure at 0x108d41710>"
      ]
     },
     "metadata": {},
     "output_type": "display_data"
    }
   ],
   "source": [
    "plt.figure(figsize=(15,8))\n",
    "plt.plot(za,Z1)\n",
    "plt.plot(za,Z2)\n",
    "plt.plot(za,Z3)\n",
    "plt.plot(za,Z4)\n",
    "plt.plot(za,Z5)\n",
    "plt.plot(za,Z6)\n",
    "plt.xlabel(' Zenith angle  : theta')\n",
    "plt.ylabel(' Airmass ')\n",
    "plt.title('airmass dependance with zenith angle')"
   ]
  },
  {
   "cell_type": "code",
   "execution_count": null,
   "metadata": {
    "collapsed": false
   },
   "outputs": [],
   "source": []
  },
  {
   "cell_type": "code",
   "execution_count": null,
   "metadata": {
    "collapsed": false
   },
   "outputs": [],
   "source": []
  },
  {
   "cell_type": "code",
   "execution_count": null,
   "metadata": {
    "collapsed": true
   },
   "outputs": [],
   "source": []
  }
 ],
 "metadata": {
  "kernelspec": {
   "display_name": "Python 2",
   "language": "python",
   "name": "python2"
  },
  "language_info": {
   "codemirror_mode": {
    "name": "ipython",
    "version": 2
   },
   "file_extension": ".py",
   "mimetype": "text/x-python",
   "name": "python",
   "nbconvert_exporter": "python",
   "pygments_lexer": "ipython2",
   "version": "2.7.12"
  }
 },
 "nbformat": 4,
 "nbformat_minor": 0
}
